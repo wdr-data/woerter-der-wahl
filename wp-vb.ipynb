{
 "cells": [
  {
   "cell_type": "markdown",
   "metadata": {
    "deletable": true,
    "editable": true
   },
   "source": [
    "# Text analysis election programs for NRW 2017"
   ]
  },
  {
   "cell_type": "code",
   "execution_count": 1,
   "metadata": {
    "collapsed": true,
    "deletable": true,
    "editable": true
   },
   "outputs": [],
   "source": [
    "import re\n",
    "import sys\n",
    "import json\n",
    "from pprint import pprint\n",
    "import snowballstemmer\n",
    "import pandas as pd\n",
    "import glob"
   ]
  },
  {
   "cell_type": "code",
   "execution_count": 2,
   "metadata": {
    "collapsed": false,
    "deletable": true,
    "editable": true
   },
   "outputs": [],
   "source": [
    "path =r'data/'\n",
    "files = glob.glob(path + \"/*.txt\")"
   ]
  },
  {
   "cell_type": "raw",
   "metadata": {
    "deletable": true,
    "editable": true
   },
   "source": [
    "['programs: \n",
    "  ['gruene', \n",
    "    {'paragraphs': \n",
    "      ['erster Satz', 'lorem ipsum'], \n",
    "  'cdu', \n",
    "    {'paragraphs': \n",
    "      ['tolles programm', 'aber holla']]]"
   ]
  },
  {
   "cell_type": "code",
   "execution_count": 3,
   "metadata": {
    "collapsed": false,
    "deletable": true,
    "editable": true
   },
   "outputs": [],
   "source": [
    "programs = []\n",
    "paragraphs = {}\n",
    "\n",
    "for file in files:\n",
    "    with open(file) as f:\n",
    "        programs.append(file)\n",
    "        container = ''\n",
    "        for line in f:\n",
    "            line = line.replace('\\n', '')\n",
    "            if len(line) == 0:\n",
    "                continue\n",
    "            if container == '' and len(line) <70:\n",
    "                paragraphs.setdefault('paragraphs', [])\n",
    "                paragraphs['paragraphs'].append(line) \n",
    "                continue\n",
    "            container += line + ' '\n",
    "            if line.endswith('.'):\n",
    "                paragraphs.setdefault('paragraphs', [])\n",
    "                paragraphs['paragraphs'].append(container[:-1])\n",
    "                container = ''\n",
    "        programs.append(paragraphs)"
   ]
  },
  {
   "cell_type": "code",
   "execution_count": 4,
   "metadata": {
    "collapsed": true,
    "deletable": true,
    "editable": true
   },
   "outputs": [],
   "source": [
    "def splitting_into_words(text):\n",
    "    return re.split('[\\s\\.\\,\\?\\!\\\"\\']+', text)\n",
    "\n",
    "def test_stopwords(word):\n",
    "    stopwords = ('Die', 'Der', 'Mit', 'Diese', 'Deshalb', 'Mit', 'Für',\n",
    "                 'Eine', 'Unsere', 'Ein', 'Das', 'Sie', 'In', 'Dazu',\n",
    "                 'Mio', 'Gut', 'Kein', 'Nur', 'FÜR', 'Dafür', 'Denn', 'Darum',\n",
    "                'Es', 'Im', 'DIE', 'Auch', 'Den', 'Daher', 'Damit', 'Um', 'Dies',\n",
    "                'Ihnen', 'Als', 'UND', 'Und', 'Wir', 'Durch', 'So', 'Dem', 'Zudem', 'Viel', 'Dabei',\n",
    "                'Darüber', 'Unser', 'Neben', 'Außerdem', 'Auf', 'Bei', 'Viele', 'Gleichzeitig',\n",
    "                'Hier', 'Gerade', 'Hierzu', 'Zur', 'Aus', 'Nr', 'Seit', 'Nicht', 'An', 'Doch',\n",
    "                'Wenn', 'Nach', 'Dadurch', 'Alle', 'Hierfür', 'Vor', 'Ebenso', 'Deswegen', 'Ohne',\n",
    "                'Wie', 'Zusätzlich','Bis','Uns','Zum','Immer','Außer', 'Einen', 'Einige', 'Bisher',\n",
    "                'Daran', 'Nachdem', 'Beim', 'Oft', 'Hinzu', 'Darin', 'Des', 'Weiteren', 'Bereits',\n",
    "                'Dennoch', 'Noch', 'Keine', 'Vom', 'Jetzt', 'Diejenigen', 'Gegen', 'Unter', 'Einzelnen',\n",
    "                'Jeder', 'Zweiten', 'Leider', 'Kurz', 'Vielerorts', 'Unterschiedliche', 'Eines', 'Bislang',\n",
    "                'Somit', 'Sowohl', 'Zuvor', 'Während', 'Jedem', 'Gleiches', 'Drei', 'Einer', 'Solche',\n",
    "                'Dritten', 'Klein', 'Stattdessen', 'Gute', 'Ver', 'Innen', 'Erstes', 'Ihrem', 'Groß')\n",
    "    return word in stopwords"
   ]
  },
  {
   "cell_type": "code",
   "execution_count": 36,
   "metadata": {
    "collapsed": false,
    "deletable": true,
    "editable": true
   },
   "outputs": [
    {
     "ename": "TypeError",
     "evalue": "expected string or bytes-like object",
     "output_type": "error",
     "traceback": [
      "\u001b[0;31m---------------------------------------------------------------------------\u001b[0m",
      "\u001b[0;31mTypeError\u001b[0m                                 Traceback (most recent call last)",
      "\u001b[0;32m<ipython-input-36-19ea7f9233af>\u001b[0m in \u001b[0;36m<module>\u001b[0;34m()\u001b[0m\n\u001b[1;32m      9\u001b[0m     \u001b[0;32mwhile\u001b[0m \u001b[0mlen\u001b[0m\u001b[0;34m(\u001b[0m\u001b[0mcurrent_paragraph\u001b[0m\u001b[0;34m)\u001b[0m \u001b[0;34m>\u001b[0m \u001b[0;36m0\u001b[0m \u001b[0;32mand\u001b[0m \u001b[0mcounter\u001b[0m \u001b[0;34m<\u001b[0m \u001b[0;36m1000\u001b[0m\u001b[0;34m:\u001b[0m\u001b[0;34m\u001b[0m\u001b[0m\n\u001b[1;32m     10\u001b[0m         \u001b[0mcurrent_paragraph\u001b[0m \u001b[0;34m=\u001b[0m \u001b[0mcurrent_paragraph\u001b[0m\u001b[0;34m[\u001b[0m\u001b[0mend\u001b[0m\u001b[0;34m:\u001b[0m\u001b[0;34m]\u001b[0m\u001b[0;34m\u001b[0m\u001b[0m\n\u001b[0;32m---> 11\u001b[0;31m         \u001b[0mpos\u001b[0m \u001b[0;34m=\u001b[0m \u001b[0mre\u001b[0m\u001b[0;34m.\u001b[0m\u001b[0msearch\u001b[0m\u001b[0;34m(\u001b[0m\u001b[0;34mr'[\\s\\.\\,\\?\\!\\:\\\"\\'\\“]+'\u001b[0m\u001b[0;34m,\u001b[0m \u001b[0mcurrent_paragraph\u001b[0m\u001b[0;34m)\u001b[0m\u001b[0;34m\u001b[0m\u001b[0m\n\u001b[0m\u001b[1;32m     12\u001b[0m         \u001b[0;32mif\u001b[0m \u001b[0mpos\u001b[0m \u001b[0;32mis\u001b[0m \u001b[0;32mNone\u001b[0m\u001b[0;34m:\u001b[0m\u001b[0;34m\u001b[0m\u001b[0m\n\u001b[1;32m     13\u001b[0m             \u001b[0mend\u001b[0m \u001b[0;34m=\u001b[0m \u001b[0mlen\u001b[0m\u001b[0;34m(\u001b[0m\u001b[0mcurrent_paragraph\u001b[0m\u001b[0;34m)\u001b[0m\u001b[0;34m\u001b[0m\u001b[0m\n",
      "\u001b[0;32m/usr/lib/python3.5/re.py\u001b[0m in \u001b[0;36msearch\u001b[0;34m(pattern, string, flags)\u001b[0m\n\u001b[1;32m    171\u001b[0m     \"\"\"Scan through string looking for a match to the pattern, returning\n\u001b[1;32m    172\u001b[0m     a match object, or None if no match was found.\"\"\"\n\u001b[0;32m--> 173\u001b[0;31m     \u001b[0;32mreturn\u001b[0m \u001b[0m_compile\u001b[0m\u001b[0;34m(\u001b[0m\u001b[0mpattern\u001b[0m\u001b[0;34m,\u001b[0m \u001b[0mflags\u001b[0m\u001b[0;34m)\u001b[0m\u001b[0;34m.\u001b[0m\u001b[0msearch\u001b[0m\u001b[0;34m(\u001b[0m\u001b[0mstring\u001b[0m\u001b[0;34m)\u001b[0m\u001b[0;34m\u001b[0m\u001b[0m\n\u001b[0m\u001b[1;32m    174\u001b[0m \u001b[0;34m\u001b[0m\u001b[0m\n\u001b[1;32m    175\u001b[0m \u001b[0;32mdef\u001b[0m \u001b[0msub\u001b[0m\u001b[0;34m(\u001b[0m\u001b[0mpattern\u001b[0m\u001b[0;34m,\u001b[0m \u001b[0mrepl\u001b[0m\u001b[0;34m,\u001b[0m \u001b[0mstring\u001b[0m\u001b[0;34m,\u001b[0m \u001b[0mcount\u001b[0m\u001b[0;34m=\u001b[0m\u001b[0;36m0\u001b[0m\u001b[0;34m,\u001b[0m \u001b[0mflags\u001b[0m\u001b[0;34m=\u001b[0m\u001b[0;36m0\u001b[0m\u001b[0;34m)\u001b[0m\u001b[0;34m:\u001b[0m\u001b[0;34m\u001b[0m\u001b[0m\n",
      "\u001b[0;31mTypeError\u001b[0m: expected string or bytes-like object"
     ]
    }
   ],
   "source": [
    "counted_words = {}\n",
    "word_count = 0\n",
    "stemmer = snowballstemmer.stemmer('german')\n",
    "\n",
    "for index, paragraph in enumerate(paragraphs.values()):\n",
    "    current_paragraph = paragraph\n",
    "    counter = 0\n",
    "    end = 0\n",
    "    while len(current_paragraph) > 0 and counter < 1000:\n",
    "        current_paragraph = current_paragraph[end:]\n",
    "        pos = re.search(r'[\\s\\.\\,\\?\\!\\:\\\"\\'\\“]+', current_paragraph)\n",
    "        if pos is None:\n",
    "            end = len(current_paragraph)\n",
    "            word = current_paragraph\n",
    "        else:\n",
    "            word = current_paragraph[:pos.start()]\n",
    "            end = pos.end()\n",
    "        if not re.match('^[A-Z]', word):\n",
    "            counter += end\n",
    "            continue\n",
    "        if test_stopwords(word):\n",
    "            counter += end\n",
    "            continue\n",
    "        word_count += 1\n",
    "        stemmed = stemmer.stemWord(word)\n",
    "        if word in counted_words.keys():\n",
    "            counted_words[word]['count'] += 1\n",
    "        else:\n",
    "            counted_words[word] = {'count': 1, 'stem': stemmed, 'stem_count': 1}\n",
    "        if stemmed in counted_words[word]['stem']:\n",
    "            counted_words[word]['stem_count'] += 1\n",
    "        if 'occurence' not in counted_words[word].keys():\n",
    "            counted_words[word]['occurence'] = []\n",
    "        counted_words[word]['occurence'].append({'paragraph_index': index, 'position': counter})\n",
    "        counter += end"
   ]
  },
  {
   "cell_type": "code",
   "execution_count": 33,
   "metadata": {
    "collapsed": true,
    "deletable": true,
    "editable": true
   },
   "outputs": [],
   "source": [
    "df = pd.DataFrame(counted_words)"
   ]
  },
  {
   "cell_type": "code",
   "execution_count": 34,
   "metadata": {
    "collapsed": false,
    "deletable": true,
    "editable": true
   },
   "outputs": [
    {
     "data": {
      "text/html": [
       "<div>\n",
       "<table border=\"1\" class=\"dataframe\">\n",
       "  <thead>\n",
       "    <tr style=\"text-align: right;\">\n",
       "      <th></th>\n",
       "    </tr>\n",
       "  </thead>\n",
       "  <tbody>\n",
       "  </tbody>\n",
       "</table>\n",
       "</div>"
      ],
      "text/plain": [
       "Empty DataFrame\n",
       "Columns: []\n",
       "Index: []"
      ]
     },
     "execution_count": 34,
     "metadata": {},
     "output_type": "execute_result"
    }
   ],
   "source": [
    "df"
   ]
  },
  {
   "cell_type": "code",
   "execution_count": 7,
   "metadata": {
    "collapsed": false,
    "deletable": true,
    "editable": true
   },
   "outputs": [],
   "source": [
    "df = df.transpose()"
   ]
  },
  {
   "cell_type": "code",
   "execution_count": null,
   "metadata": {
    "collapsed": true,
    "deletable": true,
    "editable": true
   },
   "outputs": [],
   "source": []
  },
  {
   "cell_type": "code",
   "execution_count": 8,
   "metadata": {
    "collapsed": false,
    "deletable": true,
    "editable": true
   },
   "outputs": [
    {
     "data": {
      "text/html": [
       "<div>\n",
       "<table border=\"1\" class=\"dataframe\">\n",
       "  <thead>\n",
       "    <tr style=\"text-align: right;\">\n",
       "      <th></th>\n",
       "      <th>count</th>\n",
       "      <th>occurence</th>\n",
       "      <th>stem</th>\n",
       "      <th>stem_count</th>\n",
       "    </tr>\n",
       "  </thead>\n",
       "  <tbody>\n",
       "    <tr>\n",
       "      <th>A</th>\n",
       "      <td>1</td>\n",
       "      <td>[{'position': 115, 'paragraph_index': 1026}]</td>\n",
       "      <td>A</td>\n",
       "      <td>2</td>\n",
       "    </tr>\n",
       "    <tr>\n",
       "      <th>A2/B1</th>\n",
       "      <td>1</td>\n",
       "      <td>[{'position': 868, 'paragraph_index': 473}]</td>\n",
       "      <td>A2/B1</td>\n",
       "      <td>2</td>\n",
       "    </tr>\n",
       "    <tr>\n",
       "      <th>A3</th>\n",
       "      <td>1</td>\n",
       "      <td>[{'position': 543, 'paragraph_index': 870}]</td>\n",
       "      <td>A3</td>\n",
       "      <td>2</td>\n",
       "    </tr>\n",
       "    <tr>\n",
       "      <th>A4</th>\n",
       "      <td>1</td>\n",
       "      <td>[{'position': 550, 'paragraph_index': 870}]</td>\n",
       "      <td>A4</td>\n",
       "      <td>2</td>\n",
       "    </tr>\n",
       "    <tr>\n",
       "      <th>AG</th>\n",
       "      <td>1</td>\n",
       "      <td>[{'position': 407, 'paragraph_index': 338}]</td>\n",
       "      <td>AG</td>\n",
       "      <td>2</td>\n",
       "    </tr>\n",
       "  </tbody>\n",
       "</table>\n",
       "</div>"
      ],
      "text/plain": [
       "      count                                     occurence   stem stem_count\n",
       "A         1  [{'position': 115, 'paragraph_index': 1026}]      A          2\n",
       "A2/B1     1   [{'position': 868, 'paragraph_index': 473}]  A2/B1          2\n",
       "A3        1   [{'position': 543, 'paragraph_index': 870}]     A3          2\n",
       "A4        1   [{'position': 550, 'paragraph_index': 870}]     A4          2\n",
       "AG        1   [{'position': 407, 'paragraph_index': 338}]     AG          2"
      ]
     },
     "execution_count": 8,
     "metadata": {},
     "output_type": "execute_result"
    }
   ],
   "source": [
    "df.head()"
   ]
  },
  {
   "cell_type": "code",
   "execution_count": 10,
   "metadata": {
    "collapsed": false,
    "deletable": true,
    "editable": true
   },
   "outputs": [],
   "source": [
    "df['stem_share'] = (df['stem_count'] / len(df)*100)"
   ]
  },
  {
   "cell_type": "code",
   "execution_count": null,
   "metadata": {
    "collapsed": true,
    "deletable": true,
    "editable": true
   },
   "outputs": [],
   "source": [
    "# df['global_share'] = "
   ]
  },
  {
   "cell_type": "code",
   "execution_count": 13,
   "metadata": {
    "collapsed": false,
    "deletable": true,
    "editable": true
   },
   "outputs": [
    {
     "data": {
      "text/html": [
       "<div>\n",
       "<table border=\"1\" class=\"dataframe\">\n",
       "  <thead>\n",
       "    <tr style=\"text-align: right;\">\n",
       "      <th></th>\n",
       "      <th>count</th>\n",
       "      <th>occurence</th>\n",
       "      <th>stem</th>\n",
       "      <th>stem_count</th>\n",
       "      <th>stem_share</th>\n",
       "    </tr>\n",
       "  </thead>\n",
       "  <tbody>\n",
       "    <tr>\n",
       "      <th>NRW</th>\n",
       "      <td>395</td>\n",
       "      <td>[{'position': 4, 'paragraph_index': 3}, {'posi...</td>\n",
       "      <td>NRW</td>\n",
       "      <td>396</td>\n",
       "      <td>5.70194</td>\n",
       "    </tr>\n",
       "    <tr>\n",
       "      <th>Menschen</th>\n",
       "      <td>251</td>\n",
       "      <td>[{'position': 42, 'paragraph_index': 5}, {'pos...</td>\n",
       "      <td>Mensch</td>\n",
       "      <td>252</td>\n",
       "      <td>3.62851</td>\n",
       "    </tr>\n",
       "    <tr>\n",
       "      <th>GRÜNE</th>\n",
       "      <td>187</td>\n",
       "      <td>[{'position': 543, 'paragraph_index': 4}, {'po...</td>\n",
       "      <td>GRÜNE</td>\n",
       "      <td>188</td>\n",
       "      <td>2.70698</td>\n",
       "    </tr>\n",
       "    <tr>\n",
       "      <th>Kommunen</th>\n",
       "      <td>117</td>\n",
       "      <td>[{'position': 299, 'paragraph_index': 14}, {'p...</td>\n",
       "      <td>Kommun</td>\n",
       "      <td>118</td>\n",
       "      <td>1.69906</td>\n",
       "    </tr>\n",
       "    <tr>\n",
       "      <th>Land</th>\n",
       "      <td>101</td>\n",
       "      <td>[{'position': 83, 'paragraph_index': 4}, {'pos...</td>\n",
       "      <td>Land</td>\n",
       "      <td>102</td>\n",
       "      <td>1.46868</td>\n",
       "    </tr>\n",
       "    <tr>\n",
       "      <th>Kinder</th>\n",
       "      <td>92</td>\n",
       "      <td>[{'position': 355, 'paragraph_index': 15}, {'p...</td>\n",
       "      <td>Kind</td>\n",
       "      <td>93</td>\n",
       "      <td>1.33909</td>\n",
       "    </tr>\n",
       "    <tr>\n",
       "      <th>Schulen</th>\n",
       "      <td>91</td>\n",
       "      <td>[{'position': 359, 'paragraph_index': 14}, {'p...</td>\n",
       "      <td>Schul</td>\n",
       "      <td>92</td>\n",
       "      <td>1.32469</td>\n",
       "    </tr>\n",
       "    <tr>\n",
       "      <th>Unternehmen</th>\n",
       "      <td>84</td>\n",
       "      <td>[{'position': 184, 'paragraph_index': 18}, {'p...</td>\n",
       "      <td>unternehm</td>\n",
       "      <td>85</td>\n",
       "      <td>1.2239</td>\n",
       "    </tr>\n",
       "    <tr>\n",
       "      <th>Arbeit</th>\n",
       "      <td>77</td>\n",
       "      <td>[{'position': 353, 'paragraph_index': 21}, {'p...</td>\n",
       "      <td>Arbeit</td>\n",
       "      <td>78</td>\n",
       "      <td>1.12311</td>\n",
       "    </tr>\n",
       "    <tr>\n",
       "      <th>Entwicklung</th>\n",
       "      <td>74</td>\n",
       "      <td>[{'position': 431, 'paragraph_index': 20}, {'p...</td>\n",
       "      <td>Entwicklung</td>\n",
       "      <td>75</td>\n",
       "      <td>1.07991</td>\n",
       "    </tr>\n",
       "    <tr>\n",
       "      <th>Hochschulen</th>\n",
       "      <td>72</td>\n",
       "      <td>[{'position': 562, 'paragraph_index': 15}, {'p...</td>\n",
       "      <td>Hochschul</td>\n",
       "      <td>73</td>\n",
       "      <td>1.05112</td>\n",
       "    </tr>\n",
       "    <tr>\n",
       "      <th>Förderung</th>\n",
       "      <td>71</td>\n",
       "      <td>[{'position': 345, 'paragraph_index': 40}, {'p...</td>\n",
       "      <td>Forder</td>\n",
       "      <td>72</td>\n",
       "      <td>1.03672</td>\n",
       "    </tr>\n",
       "    <tr>\n",
       "      <th>Bereich</th>\n",
       "      <td>70</td>\n",
       "      <td>[{'position': 968, 'paragraph_index': 124}, {'...</td>\n",
       "      <td>Bereich</td>\n",
       "      <td>71</td>\n",
       "      <td>1.02232</td>\n",
       "    </tr>\n",
       "    <tr>\n",
       "      <th>Ziel</th>\n",
       "      <td>69</td>\n",
       "      <td>[{'position': 36, 'paragraph_index': 3}, {'pos...</td>\n",
       "      <td>Ziel</td>\n",
       "      <td>70</td>\n",
       "      <td>1.00792</td>\n",
       "    </tr>\n",
       "    <tr>\n",
       "      <th>Zukunft</th>\n",
       "      <td>65</td>\n",
       "      <td>[{'position': 12, 'paragraph_index': 3}, {'pos...</td>\n",
       "      <td>Zukunft</td>\n",
       "      <td>66</td>\n",
       "      <td>0.950324</td>\n",
       "    </tr>\n",
       "    <tr>\n",
       "      <th>Jahren</th>\n",
       "      <td>64</td>\n",
       "      <td>[{'position': 583, 'paragraph_index': 4}, {'po...</td>\n",
       "      <td>Jahr</td>\n",
       "      <td>65</td>\n",
       "      <td>0.935925</td>\n",
       "    </tr>\n",
       "    <tr>\n",
       "      <th>Nordrhein-Westfalen</th>\n",
       "      <td>63</td>\n",
       "      <td>[{'position': 26, 'paragraph_index': 2}, {'pos...</td>\n",
       "      <td>Nordrhein-Westfal</td>\n",
       "      <td>64</td>\n",
       "      <td>0.921526</td>\n",
       "    </tr>\n",
       "    <tr>\n",
       "      <th>Schule</th>\n",
       "      <td>62</td>\n",
       "      <td>[{'position': 934, 'paragraph_index': 368}, {'...</td>\n",
       "      <td>Schul</td>\n",
       "      <td>63</td>\n",
       "      <td>0.907127</td>\n",
       "    </tr>\n",
       "    <tr>\n",
       "      <th>Bildung</th>\n",
       "      <td>61</td>\n",
       "      <td>[{'position': 640, 'paragraph_index': 15}, {'p...</td>\n",
       "      <td>Bildung</td>\n",
       "      <td>62</td>\n",
       "      <td>0.892729</td>\n",
       "    </tr>\n",
       "    <tr>\n",
       "      <th>Landes</th>\n",
       "      <td>60</td>\n",
       "      <td>[{'position': 201, 'paragraph_index': 31}, {'p...</td>\n",
       "      <td>Land</td>\n",
       "      <td>61</td>\n",
       "      <td>0.87833</td>\n",
       "    </tr>\n",
       "  </tbody>\n",
       "</table>\n",
       "</div>"
      ],
      "text/plain": [
       "                    count                                          occurence  \\\n",
       "NRW                   395  [{'position': 4, 'paragraph_index': 3}, {'posi...   \n",
       "Menschen              251  [{'position': 42, 'paragraph_index': 5}, {'pos...   \n",
       "GRÜNE                 187  [{'position': 543, 'paragraph_index': 4}, {'po...   \n",
       "Kommunen              117  [{'position': 299, 'paragraph_index': 14}, {'p...   \n",
       "Land                  101  [{'position': 83, 'paragraph_index': 4}, {'pos...   \n",
       "Kinder                 92  [{'position': 355, 'paragraph_index': 15}, {'p...   \n",
       "Schulen                91  [{'position': 359, 'paragraph_index': 14}, {'p...   \n",
       "Unternehmen            84  [{'position': 184, 'paragraph_index': 18}, {'p...   \n",
       "Arbeit                 77  [{'position': 353, 'paragraph_index': 21}, {'p...   \n",
       "Entwicklung            74  [{'position': 431, 'paragraph_index': 20}, {'p...   \n",
       "Hochschulen            72  [{'position': 562, 'paragraph_index': 15}, {'p...   \n",
       "Förderung              71  [{'position': 345, 'paragraph_index': 40}, {'p...   \n",
       "Bereich                70  [{'position': 968, 'paragraph_index': 124}, {'...   \n",
       "Ziel                   69  [{'position': 36, 'paragraph_index': 3}, {'pos...   \n",
       "Zukunft                65  [{'position': 12, 'paragraph_index': 3}, {'pos...   \n",
       "Jahren                 64  [{'position': 583, 'paragraph_index': 4}, {'po...   \n",
       "Nordrhein-Westfalen    63  [{'position': 26, 'paragraph_index': 2}, {'pos...   \n",
       "Schule                 62  [{'position': 934, 'paragraph_index': 368}, {'...   \n",
       "Bildung                61  [{'position': 640, 'paragraph_index': 15}, {'p...   \n",
       "Landes                 60  [{'position': 201, 'paragraph_index': 31}, {'p...   \n",
       "\n",
       "                                  stem stem_count stem_share  \n",
       "NRW                                NRW        396    5.70194  \n",
       "Menschen                        Mensch        252    3.62851  \n",
       "GRÜNE                            GRÜNE        188    2.70698  \n",
       "Kommunen                        Kommun        118    1.69906  \n",
       "Land                              Land        102    1.46868  \n",
       "Kinder                            Kind         93    1.33909  \n",
       "Schulen                          Schul         92    1.32469  \n",
       "Unternehmen                  unternehm         85     1.2239  \n",
       "Arbeit                          Arbeit         78    1.12311  \n",
       "Entwicklung                Entwicklung         75    1.07991  \n",
       "Hochschulen                  Hochschul         73    1.05112  \n",
       "Förderung                       Forder         72    1.03672  \n",
       "Bereich                        Bereich         71    1.02232  \n",
       "Ziel                              Ziel         70    1.00792  \n",
       "Zukunft                        Zukunft         66   0.950324  \n",
       "Jahren                            Jahr         65   0.935925  \n",
       "Nordrhein-Westfalen  Nordrhein-Westfal         64   0.921526  \n",
       "Schule                           Schul         63   0.907127  \n",
       "Bildung                        Bildung         62   0.892729  \n",
       "Landes                            Land         61    0.87833  "
      ]
     },
     "execution_count": 13,
     "metadata": {},
     "output_type": "execute_result"
    }
   ],
   "source": [
    "df.sort_values('stem_share', ascending=False).head(20)"
   ]
  },
  {
   "cell_type": "code",
   "execution_count": null,
   "metadata": {
    "collapsed": true,
    "deletable": true,
    "editable": true
   },
   "outputs": [],
   "source": []
  }
 ],
 "metadata": {
  "kernelspec": {
   "display_name": "Python 3",
   "language": "python",
   "name": "python3"
  },
  "language_info": {
   "codemirror_mode": {
    "name": "ipython",
    "version": 3
   },
   "file_extension": ".py",
   "mimetype": "text/x-python",
   "name": "python",
   "nbconvert_exporter": "python",
   "pygments_lexer": "ipython3",
   "version": "3.5.2"
  }
 },
 "nbformat": 4,
 "nbformat_minor": 2
}
